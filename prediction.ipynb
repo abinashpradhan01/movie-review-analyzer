{
 "cells": [
  {
   "cell_type": "code",
   "execution_count": 19,
   "metadata": {},
   "outputs": [],
   "source": [
    "# Step 1: Import Libraries and Load the Model\n",
    "import numpy as np\n",
    "import tensorflow as tf \n",
    "from tensorflow.keras.datasets import imdb\n",
    "from tensorflow.keras.preprocessing import sequence\n",
    "from tensorflow.keras.models import load_model"
   ]
  },
  {
   "cell_type": "code",
   "execution_count": 20,
   "metadata": {},
   "outputs": [],
   "source": [
    "\n",
    "# Load the IMDB dataset word index\n",
    "word_index = imdb.get_word_index()\n",
    "reverse_word_index = {value: key for key, value in word_index.items()}"
   ]
  },
  {
   "cell_type": "code",
   "execution_count": 21,
   "metadata": {},
   "outputs": [
    {
     "data": {
      "text/html": [
       "<pre style=\"white-space:pre;overflow-x:auto;line-height:normal;font-family:Menlo,'DejaVu Sans Mono',consolas,'Courier New',monospace\"><span style=\"font-weight: bold\">Model: \"sequential_1\"</span>\n",
       "</pre>\n"
      ],
      "text/plain": [
       "\u001b[1mModel: \"sequential_1\"\u001b[0m\n"
      ]
     },
     "metadata": {},
     "output_type": "display_data"
    },
    {
     "data": {
      "text/html": [
       "<pre style=\"white-space:pre;overflow-x:auto;line-height:normal;font-family:Menlo,'DejaVu Sans Mono',consolas,'Courier New',monospace\">┏━━━━━━━━━━━━━━━━━━━━━━━━━━━━━━━━━━━━━━┳━━━━━━━━━━━━━━━━━━━━━━━━━━━━━┳━━━━━━━━━━━━━━━━━┓\n",
       "┃<span style=\"font-weight: bold\"> Layer (type)                         </span>┃<span style=\"font-weight: bold\"> Output Shape                </span>┃<span style=\"font-weight: bold\">         Param # </span>┃\n",
       "┡━━━━━━━━━━━━━━━━━━━━━━━━━━━━━━━━━━━━━━╇━━━━━━━━━━━━━━━━━━━━━━━━━━━━━╇━━━━━━━━━━━━━━━━━┩\n",
       "│ embedding_1 (<span style=\"color: #0087ff; text-decoration-color: #0087ff\">Embedding</span>)              │ (<span style=\"color: #00af00; text-decoration-color: #00af00\">32</span>, <span style=\"color: #00af00; text-decoration-color: #00af00\">500</span>, <span style=\"color: #00af00; text-decoration-color: #00af00\">128</span>)              │       <span style=\"color: #00af00; text-decoration-color: #00af00\">1,280,000</span> │\n",
       "├──────────────────────────────────────┼─────────────────────────────┼─────────────────┤\n",
       "│ simple_rnn_1 (<span style=\"color: #0087ff; text-decoration-color: #0087ff\">SimpleRNN</span>)             │ (<span style=\"color: #00af00; text-decoration-color: #00af00\">32</span>, <span style=\"color: #00af00; text-decoration-color: #00af00\">128</span>)                   │          <span style=\"color: #00af00; text-decoration-color: #00af00\">32,896</span> │\n",
       "├──────────────────────────────────────┼─────────────────────────────┼─────────────────┤\n",
       "│ dense_1 (<span style=\"color: #0087ff; text-decoration-color: #0087ff\">Dense</span>)                      │ (<span style=\"color: #00af00; text-decoration-color: #00af00\">32</span>, <span style=\"color: #00af00; text-decoration-color: #00af00\">1</span>)                     │             <span style=\"color: #00af00; text-decoration-color: #00af00\">129</span> │\n",
       "└──────────────────────────────────────┴─────────────────────────────┴─────────────────┘\n",
       "</pre>\n"
      ],
      "text/plain": [
       "┏━━━━━━━━━━━━━━━━━━━━━━━━━━━━━━━━━━━━━━┳━━━━━━━━━━━━━━━━━━━━━━━━━━━━━┳━━━━━━━━━━━━━━━━━┓\n",
       "┃\u001b[1m \u001b[0m\u001b[1mLayer (type)                        \u001b[0m\u001b[1m \u001b[0m┃\u001b[1m \u001b[0m\u001b[1mOutput Shape               \u001b[0m\u001b[1m \u001b[0m┃\u001b[1m \u001b[0m\u001b[1m        Param #\u001b[0m\u001b[1m \u001b[0m┃\n",
       "┡━━━━━━━━━━━━━━━━━━━━━━━━━━━━━━━━━━━━━━╇━━━━━━━━━━━━━━━━━━━━━━━━━━━━━╇━━━━━━━━━━━━━━━━━┩\n",
       "│ embedding_1 (\u001b[38;5;33mEmbedding\u001b[0m)              │ (\u001b[38;5;34m32\u001b[0m, \u001b[38;5;34m500\u001b[0m, \u001b[38;5;34m128\u001b[0m)              │       \u001b[38;5;34m1,280,000\u001b[0m │\n",
       "├──────────────────────────────────────┼─────────────────────────────┼─────────────────┤\n",
       "│ simple_rnn_1 (\u001b[38;5;33mSimpleRNN\u001b[0m)             │ (\u001b[38;5;34m32\u001b[0m, \u001b[38;5;34m128\u001b[0m)                   │          \u001b[38;5;34m32,896\u001b[0m │\n",
       "├──────────────────────────────────────┼─────────────────────────────┼─────────────────┤\n",
       "│ dense_1 (\u001b[38;5;33mDense\u001b[0m)                      │ (\u001b[38;5;34m32\u001b[0m, \u001b[38;5;34m1\u001b[0m)                     │             \u001b[38;5;34m129\u001b[0m │\n",
       "└──────────────────────────────────────┴─────────────────────────────┴─────────────────┘\n"
      ]
     },
     "metadata": {},
     "output_type": "display_data"
    },
    {
     "data": {
      "text/html": [
       "<pre style=\"white-space:pre;overflow-x:auto;line-height:normal;font-family:Menlo,'DejaVu Sans Mono',consolas,'Courier New',monospace\"><span style=\"font-weight: bold\"> Total params: </span><span style=\"color: #00af00; text-decoration-color: #00af00\">3,939,077</span> (15.03 MB)\n",
       "</pre>\n"
      ],
      "text/plain": [
       "\u001b[1m Total params: \u001b[0m\u001b[38;5;34m3,939,077\u001b[0m (15.03 MB)\n"
      ]
     },
     "metadata": {},
     "output_type": "display_data"
    },
    {
     "data": {
      "text/html": [
       "<pre style=\"white-space:pre;overflow-x:auto;line-height:normal;font-family:Menlo,'DejaVu Sans Mono',consolas,'Courier New',monospace\"><span style=\"font-weight: bold\"> Trainable params: </span><span style=\"color: #00af00; text-decoration-color: #00af00\">1,313,025</span> (5.01 MB)\n",
       "</pre>\n"
      ],
      "text/plain": [
       "\u001b[1m Trainable params: \u001b[0m\u001b[38;5;34m1,313,025\u001b[0m (5.01 MB)\n"
      ]
     },
     "metadata": {},
     "output_type": "display_data"
    },
    {
     "data": {
      "text/html": [
       "<pre style=\"white-space:pre;overflow-x:auto;line-height:normal;font-family:Menlo,'DejaVu Sans Mono',consolas,'Courier New',monospace\"><span style=\"font-weight: bold\"> Non-trainable params: </span><span style=\"color: #00af00; text-decoration-color: #00af00\">0</span> (0.00 B)\n",
       "</pre>\n"
      ],
      "text/plain": [
       "\u001b[1m Non-trainable params: \u001b[0m\u001b[38;5;34m0\u001b[0m (0.00 B)\n"
      ]
     },
     "metadata": {},
     "output_type": "display_data"
    },
    {
     "data": {
      "text/html": [
       "<pre style=\"white-space:pre;overflow-x:auto;line-height:normal;font-family:Menlo,'DejaVu Sans Mono',consolas,'Courier New',monospace\"><span style=\"font-weight: bold\"> Optimizer params: </span><span style=\"color: #00af00; text-decoration-color: #00af00\">2,626,052</span> (10.02 MB)\n",
       "</pre>\n"
      ],
      "text/plain": [
       "\u001b[1m Optimizer params: \u001b[0m\u001b[38;5;34m2,626,052\u001b[0m (10.02 MB)\n"
      ]
     },
     "metadata": {},
     "output_type": "display_data"
    }
   ],
   "source": [
    "# Load the pre-trained model with ReLU activation\n",
    "model = load_model('best_simple_rnn_imdb.keras')\n",
    "model.summary()"
   ]
  },
  {
   "cell_type": "code",
   "execution_count": 22,
   "metadata": {},
   "outputs": [
    {
     "data": {
      "text/plain": [
       "[array([[ 0.47812197,  0.02124787,  0.80295986, ...,  0.4958403 ,\n",
       "         -0.01638629, -0.02031298],\n",
       "        [-0.03185951,  0.11880242,  0.06866684, ...,  0.09449977,\n",
       "         -0.11329303,  0.06077656],\n",
       "        [ 0.01389152,  0.04542686,  0.02692961, ..., -0.06915977,\n",
       "         -0.02449241, -0.01294176],\n",
       "        ...,\n",
       "        [ 0.00809456,  0.04473484,  0.03231297, ..., -0.0493809 ,\n",
       "         -0.04134199,  0.01478017],\n",
       "        [ 0.06267238, -0.0951766 ,  0.03102859, ...,  0.00612495,\n",
       "          0.01856901, -0.07716261],\n",
       "        [-0.08687139,  0.09047857, -0.0098843 , ..., -0.09080727,\n",
       "         -0.01976683,  0.10139088]], dtype=float32),\n",
       " array([[-0.12443825, -0.02329791, -0.07462458, ..., -0.02504182,\n",
       "         -0.0594769 ,  0.0946352 ],\n",
       "        [-0.04628154, -0.12860294,  0.04164696, ..., -0.1480749 ,\n",
       "         -0.10493978,  0.0815818 ],\n",
       "        [-0.03223668, -0.10800534,  0.11190531, ..., -0.09177468,\n",
       "         -0.05244475,  0.03710562],\n",
       "        ...,\n",
       "        [-0.11338054, -0.01602957,  0.10752453, ..., -0.01090821,\n",
       "         -0.0063376 , -0.1002401 ],\n",
       "        [-0.22550789, -0.0696969 , -0.15344533, ...,  0.07636792,\n",
       "          0.11786654,  0.03426514],\n",
       "        [-0.03302133,  0.06697474,  0.07014189, ...,  0.05032449,\n",
       "         -0.05321932,  0.07268289]], dtype=float32),\n",
       " array([[ 1.0678390e-01,  4.6987876e-02,  1.3872044e-01, ...,\n",
       "         -6.3887365e-02, -5.6310378e-02, -4.0440064e-02],\n",
       "        [-6.2485762e-02,  1.0080904e-01,  1.3122134e-01, ...,\n",
       "         -8.5399009e-02, -1.3231839e-01,  1.7469527e-02],\n",
       "        [-6.7105703e-02,  1.3170360e-01, -1.8443462e-02, ...,\n",
       "          6.6714682e-02, -1.3235526e-01, -2.5770372e-02],\n",
       "        ...,\n",
       "        [ 9.2188448e-02, -4.9082845e-02, -1.1496456e-01, ...,\n",
       "         -1.0092325e-01,  1.0175525e-01, -4.3880437e-02],\n",
       "        [ 8.6873164e-03,  3.8670789e-02, -7.4603848e-02, ...,\n",
       "         -8.7018169e-02,  1.1608366e-02, -1.1472078e-01],\n",
       "        [ 3.7090958e-03, -7.0743188e-02, -4.6122630e-05, ...,\n",
       "         -9.4442621e-02, -1.8223916e-01,  3.8911432e-02]], dtype=float32),\n",
       " array([ 0.00722097,  0.02024202,  0.00353494,  0.01734407, -0.00892165,\n",
       "        -0.00480952, -0.02376775, -0.01893714, -0.0007004 , -0.01235252,\n",
       "         0.00357154,  0.01657342,  0.01492189, -0.01081511, -0.02578845,\n",
       "        -0.0177198 , -0.03032687,  0.00012023, -0.01872893, -0.02413601,\n",
       "         0.01554837,  0.01750978,  0.00100251, -0.01638943,  0.01356892,\n",
       "         0.01685075, -0.01449753, -0.01933967, -0.01738587, -0.01015793,\n",
       "        -0.02738456, -0.01511602, -0.04109215, -0.00392568, -0.03602861,\n",
       "        -0.00132293,  0.02850919, -0.02768346,  0.01438758,  0.01620037,\n",
       "         0.00160664, -0.0206863 , -0.00391602, -0.02703613, -0.00373267,\n",
       "         0.01102236,  0.02219198, -0.01640809, -0.01285501, -0.01034809,\n",
       "         0.03033852, -0.02968939, -0.00454491,  0.00260503, -0.01720386,\n",
       "        -0.01417347, -0.01710961,  0.00429562, -0.01368031, -0.0305362 ,\n",
       "        -0.00160979,  0.0835883 , -0.03260117, -0.03409625,  0.02817625,\n",
       "         0.04720365, -0.03199479,  0.02764764, -0.0109064 ,  0.00280946,\n",
       "         0.00965706,  0.02084026,  0.0252863 , -0.00251561,  0.00832287,\n",
       "         0.02617109, -0.00078509,  0.01376729, -0.02193635, -0.00233395,\n",
       "        -0.02336701,  0.00637425, -0.02063777, -0.00458805, -0.01822977,\n",
       "         0.00858786,  0.00531242, -0.02132679, -0.00200324,  0.00413992,\n",
       "         0.02609558,  0.03030733,  0.03077358, -0.01173699,  0.00480066,\n",
       "        -0.00903949, -0.01435265,  0.02427494,  0.00407798,  0.01772883,\n",
       "        -0.02432587, -0.0132123 , -0.0352916 ,  0.00896437,  0.0237799 ,\n",
       "        -0.01826782, -0.01019025, -0.02894573, -0.00279447, -0.04861264,\n",
       "        -0.02990273,  0.02095287, -0.00384922, -0.01143188, -0.01629277,\n",
       "         0.01583231, -0.01812522, -0.02356944,  0.00250841, -0.02564497,\n",
       "        -0.00419887, -0.03187352, -0.03105869, -0.02879789, -0.01700327,\n",
       "         0.0145349 ,  0.01416413, -0.0340902 ], dtype=float32),\n",
       " array([[ 0.15645477],\n",
       "        [ 0.23082921],\n",
       "        [ 0.12601668],\n",
       "        [ 0.1670935 ],\n",
       "        [ 0.16256702],\n",
       "        [-0.19219722],\n",
       "        [-0.22035861],\n",
       "        [-0.06122078],\n",
       "        [ 0.07849558],\n",
       "        [-0.2655729 ],\n",
       "        [-0.27756056],\n",
       "        [-0.37843546],\n",
       "        [ 0.0505433 ],\n",
       "        [-0.09718029],\n",
       "        [-0.122832  ],\n",
       "        [-0.10943437],\n",
       "        [ 0.14572385],\n",
       "        [ 0.14151162],\n",
       "        [-0.04336456],\n",
       "        [-0.09621704],\n",
       "        [ 0.03204142],\n",
       "        [ 0.20955668],\n",
       "        [ 0.21206915],\n",
       "        [-0.45122677],\n",
       "        [ 0.11791378],\n",
       "        [ 0.42804372],\n",
       "        [-0.18610922],\n",
       "        [-0.13520108],\n",
       "        [-0.34796402],\n",
       "        [-0.08799396],\n",
       "        [ 0.24580431],\n",
       "        [ 0.20945564],\n",
       "        [ 0.02344425],\n",
       "        [-0.18280049],\n",
       "        [ 0.08401052],\n",
       "        [-0.34287688],\n",
       "        [ 0.22682199],\n",
       "        [-0.07971676],\n",
       "        [ 0.20973264],\n",
       "        [-0.2621983 ],\n",
       "        [ 0.01374952],\n",
       "        [ 0.23463987],\n",
       "        [-0.25438324],\n",
       "        [ 0.0731938 ],\n",
       "        [-0.11812491],\n",
       "        [-0.18518975],\n",
       "        [ 0.19131826],\n",
       "        [-0.2725336 ],\n",
       "        [ 0.06278415],\n",
       "        [-0.10048714],\n",
       "        [ 0.23128794],\n",
       "        [-0.05462731],\n",
       "        [-0.24657004],\n",
       "        [-0.0769152 ],\n",
       "        [-0.06305886],\n",
       "        [-0.11443518],\n",
       "        [-0.1222415 ],\n",
       "        [-0.04987283],\n",
       "        [-0.430582  ],\n",
       "        [-0.1714084 ],\n",
       "        [ 0.21104571],\n",
       "        [-0.49947765],\n",
       "        [-0.11328246],\n",
       "        [-0.18863492],\n",
       "        [-0.25706264],\n",
       "        [ 0.06820031],\n",
       "        [ 0.27400473],\n",
       "        [ 0.14987573],\n",
       "        [ 0.1016266 ],\n",
       "        [ 0.09218684],\n",
       "        [-0.5378794 ],\n",
       "        [ 0.22295588],\n",
       "        [-0.66590464],\n",
       "        [-0.38111207],\n",
       "        [-0.38224694],\n",
       "        [-0.24536255],\n",
       "        [-0.2775884 ],\n",
       "        [ 0.02440944],\n",
       "        [ 0.29825655],\n",
       "        [ 0.04754531],\n",
       "        [-0.06580102],\n",
       "        [ 0.20882031],\n",
       "        [-0.04412786],\n",
       "        [-0.13790257],\n",
       "        [-0.26677716],\n",
       "        [ 0.00914144],\n",
       "        [-0.7506659 ],\n",
       "        [-0.20444013],\n",
       "        [ 0.04113349],\n",
       "        [ 0.44442976],\n",
       "        [ 0.16886947],\n",
       "        [ 0.17592418],\n",
       "        [ 0.02995183],\n",
       "        [ 0.20247355],\n",
       "        [-0.17897226],\n",
       "        [ 0.1331274 ],\n",
       "        [-0.00887681],\n",
       "        [-0.3257545 ],\n",
       "        [ 0.34428406],\n",
       "        [-0.02274887],\n",
       "        [-0.06656957],\n",
       "        [ 0.14451145],\n",
       "        [ 0.03648517],\n",
       "        [-0.158283  ],\n",
       "        [-0.08073625],\n",
       "        [ 0.05708639],\n",
       "        [-0.17093767],\n",
       "        [-0.34297243],\n",
       "        [-0.814438  ],\n",
       "        [ 0.00714538],\n",
       "        [-0.09284107],\n",
       "        [-0.03211671],\n",
       "        [-0.24302424],\n",
       "        [-0.03342321],\n",
       "        [-0.01122123],\n",
       "        [ 0.261464  ],\n",
       "        [ 0.04869377],\n",
       "        [-0.24165532],\n",
       "        [ 0.1922917 ],\n",
       "        [-0.09941366],\n",
       "        [-0.0865792 ],\n",
       "        [-0.20192164],\n",
       "        [-0.06093549],\n",
       "        [-0.21127144],\n",
       "        [-0.10264294],\n",
       "        [ 0.21472922],\n",
       "        [ 0.13040702],\n",
       "        [ 0.13736756]], dtype=float32),\n",
       " array([-0.17314608], dtype=float32)]"
      ]
     },
     "execution_count": 22,
     "metadata": {},
     "output_type": "execute_result"
    }
   ],
   "source": [
    "model.get_weights()"
   ]
  },
  {
   "cell_type": "code",
   "execution_count": 23,
   "metadata": {},
   "outputs": [],
   "source": [
    "# Step 2: Helper Functions\n",
    "# Function to decode reviews\n",
    "def decode_review(encoded_review):\n",
    "    return ' '.join([reverse_word_index.get(i - 3, '?') for i in encoded_review])\n",
    "\n",
    "# Function to preprocess user input\n",
    "def preprocess_text(text):\n",
    "    words = text.lower().split()\n",
    "    encoded_review = [word_index.get(word, 2) + 3 for word in words]\n",
    "    padded_review = sequence.pad_sequences([encoded_review], maxlen=500)\n",
    "    return padded_review"
   ]
  },
  {
   "cell_type": "code",
   "execution_count": 24,
   "metadata": {},
   "outputs": [],
   "source": [
    "### Prediction  function\n",
    "\n",
    "def predict_sentiment(review):\n",
    "    preprocessed_input=preprocess_text(review)\n",
    "\n",
    "    prediction=model.predict(preprocessed_input)\n",
    "\n",
    "    sentiment = 'Positive' if prediction[0][0] > 0.5 else 'Negative'\n",
    "    \n",
    "    return sentiment, prediction[0][0]\n",
    "\n"
   ]
  },
  {
   "cell_type": "code",
   "execution_count": 25,
   "metadata": {},
   "outputs": [
    {
     "name": "stdout",
     "output_type": "stream",
     "text": [
      "\u001b[1m1/1\u001b[0m \u001b[32m━━━━━━━━━━━━━━━━━━━━\u001b[0m\u001b[37m\u001b[0m \u001b[1m1s\u001b[0m 706ms/step\n",
      "Review: This movie was fantastic! The acting was great and the plot was thrilling.\n",
      "Sentiment: Positive\n",
      "Prediction Score: 0.602791428565979\n"
     ]
    }
   ],
   "source": [
    "# Step 4: User Input and Prediction\n",
    "# Example review for prediction\n",
    "example_review = \"This movie was fantastic! The acting was great and the plot was thrilling.\"\n",
    "\n",
    "sentiment,score=predict_sentiment(example_review)\n",
    "\n",
    "print(f'Review: {example_review}')\n",
    "print(f'Sentiment: {sentiment}')\n",
    "print(f'Prediction Score: {score}')"
   ]
  },
  {
   "cell_type": "code",
   "execution_count": 26,
   "metadata": {},
   "outputs": [
    {
     "name": "stdout",
     "output_type": "stream",
     "text": [
      "\u001b[1m1/1\u001b[0m \u001b[32m━━━━━━━━━━━━━━━━━━━━\u001b[0m\u001b[37m\u001b[0m \u001b[1m0s\u001b[0m 157ms/step\n",
      "Review: Movie was not great, one time watch though.\n",
      "Sentiment: Negative\n",
      "Prediction Score: 0.38931795954704285\n"
     ]
    }
   ],
   "source": [
    "example_review = \"Movie was not great, one time watch though.\"\n",
    "\n",
    "sentiment,score=predict_sentiment(example_review)\n",
    "\n",
    "print(f'Review: {example_review}')\n",
    "print(f'Sentiment: {sentiment}')\n",
    "print(f'Prediction Score: {score}')"
   ]
  },
  {
   "cell_type": "code",
   "execution_count": 27,
   "metadata": {},
   "outputs": [
    {
     "name": "stdout",
     "output_type": "stream",
     "text": [
      "\u001b[1m1/1\u001b[0m \u001b[32m━━━━━━━━━━━━━━━━━━━━\u001b[0m\u001b[37m\u001b[0m \u001b[1m0s\u001b[0m 186ms/step\n",
      "Review: Absolutely loved it.\n",
      "Sentiment: Positive\n",
      "Prediction Score: 0.55771803855896\n"
     ]
    }
   ],
   "source": [
    "example_review = \"Absolutely loved it.\"\n",
    "\n",
    "sentiment,score=predict_sentiment(example_review)\n",
    "\n",
    "print(f'Review: {example_review}')\n",
    "print(f'Sentiment: {sentiment}')\n",
    "print(f'Prediction Score: {score}')"
   ]
  },
  {
   "cell_type": "code",
   "execution_count": 28,
   "metadata": {},
   "outputs": [
    {
     "name": "stdout",
     "output_type": "stream",
     "text": [
      "\u001b[1m1/1\u001b[0m \u001b[32m━━━━━━━━━━━━━━━━━━━━\u001b[0m\u001b[37m\u001b[0m \u001b[1m0s\u001b[0m 179ms/step\n",
      "Review: This movie was fantastic! The acting was great and the plot was thrilling.\n",
      "Sentiment: Positive\n",
      "Prediction Score: 0.602791428565979\n"
     ]
    }
   ],
   "source": [
    "example_review = \"This movie was fantastic! The acting was great and the plot was thrilling.\"\n",
    "\n",
    "sentiment,score=predict_sentiment(example_review)\n",
    "\n",
    "print(f'Review: {example_review}')\n",
    "print(f'Sentiment: {sentiment}')\n",
    "print(f'Prediction Score: {score}')"
   ]
  },
  {
   "cell_type": "code",
   "execution_count": 29,
   "metadata": {},
   "outputs": [
    {
     "name": "stdout",
     "output_type": "stream",
     "text": [
      "\u001b[1m1/1\u001b[0m \u001b[32m━━━━━━━━━━━━━━━━━━━━\u001b[0m\u001b[37m\u001b[0m \u001b[1m0s\u001b[0m 192ms/step\n",
      "Review: I had high hopes, but it turned out to be a complete mess. The plot made no sense, the acting was wooden, and I almost walked out halfway through.\n",
      "Sentiment: Negative\n",
      "Prediction Score: 0.03990248218178749\n"
     ]
    }
   ],
   "source": [
    "example_review = \"I had high hopes, but it turned out to be a complete mess. The plot made no sense, the acting was wooden, and I almost walked out halfway through.\"\n",
    "\n",
    "sentiment,score=predict_sentiment(example_review)\n",
    "\n",
    "print(f'Review: {example_review}')\n",
    "print(f'Sentiment: {sentiment}')\n",
    "print(f'Prediction Score: {score}')"
   ]
  },
  {
   "cell_type": "code",
   "execution_count": 30,
   "metadata": {},
   "outputs": [
    {
     "name": "stdout",
     "output_type": "stream",
     "text": [
      "\u001b[1m1/1\u001b[0m \u001b[32m━━━━━━━━━━━━━━━━━━━━\u001b[0m\u001b[37m\u001b[0m \u001b[1m0s\u001b[0m 207ms/step\n",
      "Review: It was okay, not great, not terrible. Some scenes were funny, others dragged on.\n",
      "Sentiment: Negative\n",
      "Prediction Score: 0.276000052690506\n"
     ]
    }
   ],
   "source": [
    "example_review = \"It was okay, not great, not terrible. Some scenes were funny, others dragged on.\"\n",
    "\n",
    "sentiment,score=predict_sentiment(example_review)\n",
    "\n",
    "print(f'Review: {example_review}')\n",
    "print(f'Sentiment: {sentiment}')\n",
    "print(f'Prediction Score: {score}')"
   ]
  },
  {
   "cell_type": "code",
   "execution_count": 31,
   "metadata": {},
   "outputs": [
    {
     "name": "stdout",
     "output_type": "stream",
     "text": [
      "\u001b[1m1/1\u001b[0m \u001b[32m━━━━━━━━━━━━━━━━━━━━\u001b[0m\u001b[37m\u001b[0m \u001b[1m0s\u001b[0m 166ms/step\n",
      "Review: An absolute gem. The characters were so well developed, and the emotional scenes really hit hard. I cried twice.\n",
      "Sentiment: Positive\n",
      "Prediction Score: 0.8703590035438538\n"
     ]
    }
   ],
   "source": [
    "example_review = \"An absolute gem. The characters were so well developed, and the emotional scenes really hit hard. I cried twice.\"\n",
    "\n",
    "sentiment,score=predict_sentiment(example_review)\n",
    "\n",
    "print(f'Review: {example_review}')\n",
    "print(f'Sentiment: {sentiment}')\n",
    "print(f'Prediction Score: {score}')"
   ]
  },
  {
   "cell_type": "code",
   "execution_count": 32,
   "metadata": {},
   "outputs": [
    {
     "name": "stdout",
     "output_type": "stream",
     "text": [
      "\u001b[1m1/1\u001b[0m \u001b[32m━━━━━━━━━━━━━━━━━━━━\u001b[0m\u001b[37m\u001b[0m \u001b[1m0s\u001b[0m 184ms/step\n",
      "Review: Boring from start to finish. Predictable plot, no chemistry between the leads, and I kept checking my phone.\n",
      "Sentiment: Negative\n",
      "Prediction Score: 0.3509880006313324\n"
     ]
    }
   ],
   "source": [
    "example_review = \"Boring from start to finish. Predictable plot, no chemistry between the leads, and I kept checking my phone.\"\n",
    "\n",
    "sentiment,score=predict_sentiment(example_review)\n",
    "\n",
    "print(f'Review: {example_review}')\n",
    "print(f'Sentiment: {sentiment}')\n",
    "print(f'Prediction Score: {score}')"
   ]
  },
  {
   "cell_type": "code",
   "execution_count": null,
   "metadata": {},
   "outputs": [],
   "source": []
  }
 ],
 "metadata": {
  "kernelspec": {
   "display_name": "Python (dl-env-ab)",
   "language": "python",
   "name": "dl-env-ab"
  },
  "language_info": {
   "codemirror_mode": {
    "name": "ipython",
    "version": 3
   },
   "file_extension": ".py",
   "mimetype": "text/x-python",
   "name": "python",
   "nbconvert_exporter": "python",
   "pygments_lexer": "ipython3",
   "version": "3.10.18"
  }
 },
 "nbformat": 4,
 "nbformat_minor": 4
}
